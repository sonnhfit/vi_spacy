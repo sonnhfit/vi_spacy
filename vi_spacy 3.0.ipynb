{
 "cells": [
  {
   "cell_type": "code",
   "execution_count": 1,
   "metadata": {
    "collapsed": true
   },
   "outputs": [],
   "source": [
    "from spacy.lang.vi import Vietnamese\n",
    "nlp = Vietnamese()  # use directly"
   ]
  },
  {
   "cell_type": "code",
   "execution_count": 2,
   "metadata": {},
   "outputs": [
    {
     "data": {
      "text/plain": [
       "<spacy.lang.vi.Vietnamese at 0x7fd5d01a4eb8>"
      ]
     },
     "execution_count": 2,
     "metadata": {},
     "output_type": "execute_result"
    }
   ],
   "source": [
    "nlp"
   ]
  },
  {
   "cell_type": "code",
   "execution_count": 10,
   "metadata": {
    "collapsed": true
   },
   "outputs": [],
   "source": [
    "doc = nlp(\"Chẳng hạn từ tháng 1 - 7.2017, ô tô BS: 14A-130... 23 lần đỗ không đúng nơi quy định trên đường Hàm Nghi, Q.1; từ tháng 3 - 10.2017, ô tô BS: 30S-087... 34 lần đỗ trên đường Nguyễn Cư Trinh, Q.1; từ tháng 4 - 10.2017, ô tô BS: 86B-0066... 34 lần đỗ trên đường Nguyễn Cư Trinh, Q.1; từ tháng 5 - 12.2017, ô tô BS: 86B-0074... 27 lần đỗ trên đường Nguyễn Cư Trinh, Q.1; từ tháng 4 - 10.2017, ô tô BS: 84B-0023... 9 lần đỗ trên đường Trần Phú, Q.5... Từ đầu năm 2017 đến nay, PC67 nhiều lần gửi thông báo vi phạm, thậm chí bêu tên trên Cổng thông tin điện tử của CATP nhưng phương tiện vẫn tái phạm.\")"
   ]
  },
  {
   "cell_type": "code",
   "execution_count": 11,
   "metadata": {},
   "outputs": [
    {
     "name": "stdout",
     "output_type": "stream",
     "text": [
      "Chẳng_hạn\n",
      "từ\n",
      "tháng\n",
      "1\n",
      "-\n",
      "7.2017\n",
      ",\n",
      "ô_tô\n",
      "BS\n",
      ":\n",
      "14A\n",
      "-\n",
      "130\n",
      "...\n",
      "23\n",
      "lần\n",
      "đỗ\n",
      "không\n",
      "đúng\n",
      "nơi\n",
      "quy_định\n",
      "trên\n",
      "đường\n",
      "Hàm_Nghi\n",
      ",\n",
      "Q.\n",
      "1\n",
      ";\n",
      "từ\n",
      "tháng\n",
      "3\n",
      "-\n",
      "10.2017\n",
      ",\n",
      "ô_tô\n",
      "BS\n",
      ":\n",
      "30S\n",
      "-\n",
      "087\n",
      "...\n",
      "34\n",
      "lần\n",
      "đỗ\n",
      "trên\n",
      "đường\n",
      "Nguyễn_Cư_Trinh\n",
      ",\n",
      "Q.\n",
      "1\n",
      ";\n",
      "từ\n",
      "tháng\n",
      "4\n",
      "-\n",
      "10.2017\n",
      ",\n",
      "ô_tô\n",
      "BS\n",
      ":\n",
      "86B\n",
      "-\n",
      "0066\n",
      "...\n",
      "34\n",
      "lần\n",
      "đỗ\n",
      "trên\n",
      "đường\n",
      "Nguyễn_Cư_Trinh\n",
      ",\n",
      "Q.\n",
      "1\n",
      ";\n",
      "từ\n",
      "tháng\n",
      "5\n",
      "-\n",
      "12.2017\n",
      ",\n",
      "ô_tô\n",
      "BS\n",
      ":\n",
      "86B\n",
      "-\n",
      "0074\n",
      "...\n",
      "27\n",
      "lần\n",
      "đỗ\n",
      "trên\n",
      "đường\n",
      "Nguyễn_Cư_Trinh\n",
      ",\n",
      "Q.\n",
      "1\n",
      ";\n",
      "từ\n",
      "tháng\n",
      "4\n",
      "-\n",
      "10.2017\n",
      ",\n",
      "ô_tô\n",
      "BS\n",
      ":\n",
      "84B\n",
      "-\n",
      "0023\n",
      "...\n",
      "9\n",
      "lần\n",
      "đỗ\n",
      "trên\n",
      "đường\n",
      "Trần_Phú\n",
      ",\n",
      "Q.\n",
      "5\n",
      "...\n",
      "Từ\n",
      "đầu\n",
      "năm\n",
      "2017\n",
      "đến\n",
      "nay\n",
      ",\n",
      "PC67\n",
      "nhiều\n",
      "lần\n",
      "gửi\n",
      "thông_báo\n",
      "vi_phạm\n",
      ",\n",
      "thậm_chí\n",
      "bêu\n",
      "tên\n",
      "trên\n",
      "Cổng\n",
      "thông_tin\n",
      "điện_tử\n",
      "của\n",
      "CATP\n",
      "nhưng\n",
      "phương_tiện\n",
      "vẫn\n",
      "tái_phạm\n",
      ".\n"
     ]
    }
   ],
   "source": [
    "for token in doc:\n",
    "    print(token)"
   ]
  },
  {
   "cell_type": "code",
   "execution_count": null,
   "metadata": {
    "collapsed": true
   },
   "outputs": [],
   "source": []
  }
 ],
 "metadata": {
  "kernelspec": {
   "display_name": "Python 3",
   "language": "python",
   "name": "python3"
  },
  "language_info": {
   "codemirror_mode": {
    "name": "ipython",
    "version": 3
   },
   "file_extension": ".py",
   "mimetype": "text/x-python",
   "name": "python",
   "nbconvert_exporter": "python",
   "pygments_lexer": "ipython3",
   "version": "3.6.3"
  }
 },
 "nbformat": 4,
 "nbformat_minor": 2
}
